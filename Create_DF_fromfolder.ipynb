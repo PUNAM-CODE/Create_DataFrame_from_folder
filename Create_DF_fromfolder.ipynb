{
 "cells": [
  {
   "cell_type": "code",
   "execution_count": null,
   "id": "dbe830e5-650b-4e1d-986d-7659d6f6cb37",
   "metadata": {},
   "outputs": [],
   "source": []
  },
  {
   "cell_type": "code",
   "execution_count": 1,
   "id": "86960cf0-3f17-45c9-8ea8-06a3f53690c3",
   "metadata": {},
   "outputs": [
    {
     "name": "stdout",
     "output_type": "stream",
     "text": [
      "         Folder Name                                           PDF Path\n",
      "0                 33                                               None\n",
      "1              =====                                               None\n",
      "2          asfd_adsa  C:\\Users\\punam.chaudhari\\Documents\\google-api-...\n",
      "3       CD_1CENT_T01                                               None\n",
      "4       CD_1SEAL_T01                                               None\n",
      "...              ...                                                ...\n",
      "2551    SC_WISEL_T01                                               None\n",
      "2552    SC_WSFBK_T01                                               None\n",
      "2553    SC_WTPCU_T01                                               None\n",
      "2554    SF_CITIB_T01                                               None\n",
      "2555  Test_Bank_T012  C:\\Users\\punam.chaudhari\\Documents\\google-api-...\n",
      "\n",
      "[2556 rows x 2 columns]\n"
     ]
    }
   ],
   "source": [
    "import os\n",
    "import pandas as pd\n",
    "\n",
    "# Specify the path to the folder containing the PDFs\n",
    "folder_path = r\"C:\\Users\\punam.chaudhari\\Documents\\google-api-core\\pdfs\\templatedetection\"\n",
    "\n",
    "# Initialize lists to store folder names and PDF paths\n",
    "folder_names = []\n",
    "pdf_paths = []\n",
    "\n",
    "# Iterate through folders in the specified path\n",
    "for folder_name in os.listdir(folder_path):\n",
    "    folder_names.append(folder_name)\n",
    "    \n",
    "    # Assuming each folder contains only one PDF file\n",
    "    pdf_file = [file for file in os.listdir(os.path.join(folder_path, folder_name)) if file.endswith('.pdf')]\n",
    "    \n",
    "    if pdf_file:\n",
    "        pdf_paths.append(os.path.join(folder_path, folder_name, pdf_file[0]))\n",
    "    else:\n",
    "        pdf_paths.append(None)\n",
    "\n",
    "# Create a DataFrame\n",
    "df = pd.DataFrame({'Folder Name': folder_names, 'PDF Path': pdf_paths})\n",
    "\n",
    "# Display the DataFrame\n",
    "print(df)\n"
   ]
  },
  {
   "cell_type": "code",
   "execution_count": 7,
   "id": "d944f5e3-e809-4d67-9279-7872d2472e0c",
   "metadata": {},
   "outputs": [
    {
     "name": "stdout",
     "output_type": "stream",
     "text": [
      "DataFrame saved to C:\\Users\\punam.chaudhari\\Documents\\google-api-core\\pdfs\\DataFram_combine.xlsx\n"
     ]
    }
   ],
   "source": [
    "import os\n",
    "import pandas as pd\n",
    "\n",
    "# Specify the path to the folder containing the PDFs\n",
    "folder_path = r\"C:\\Users\\punam.chaudhari\\Documents\\google-api-core\\pdfs\\templatedetection\"\n",
    "\n",
    "# Initialize lists to store folder names and PDF paths\n",
    "folder_names = []\n",
    "pdf_paths = []\n",
    "\n",
    "# Iterate through folders in the specified path\n",
    "for folder_name in os.listdir(folder_path):\n",
    "    folder_names.append(folder_name)\n",
    "    \n",
    "    # Assuming each folder contains only one PDF file\n",
    "    pdf_file = [file for file in os.listdir(os.path.join(folder_path, folder_name)) if file.lower().endswith(('.pdf', '.PDF'))]\n",
    "    \n",
    "    if pdf_file:\n",
    "        pdf_paths.append(os.path.join(folder_path, folder_name, pdf_file[0]))\n",
    "    else:\n",
    "        pdf_paths.append(None)\n",
    "\n",
    "# Create a DataFrame\n",
    "df = pd.DataFrame({'Folder Name': folder_names, 'PDF Path': pdf_paths})\n",
    "\n",
    "# Save the DataFrame to an Excel file\n",
    "excel_file_path = r\"C:\\Users\\punam.chaudhari\\Documents\\google-api-core\\pdfs\\DataFram_combine.xlsx\"\n",
    "df.to_excel(excel_file_path, index=False)\n",
    "\n",
    "print(f\"DataFrame saved to {excel_file_path}\")\n",
    "\n"
   ]
  },
  {
   "cell_type": "code",
   "execution_count": null,
   "id": "ee4e7365-64b6-4268-b303-637926f95cbd",
   "metadata": {},
   "outputs": [],
   "source": []
  }
 ],
 "metadata": {
  "kernelspec": {
   "display_name": "Python 3 (ipykernel)",
   "language": "python",
   "name": "python3"
  },
  "language_info": {
   "codemirror_mode": {
    "name": "ipython",
    "version": 3
   },
   "file_extension": ".py",
   "mimetype": "text/x-python",
   "name": "python",
   "nbconvert_exporter": "python",
   "pygments_lexer": "ipython3",
   "version": "3.11.4"
  }
 },
 "nbformat": 4,
 "nbformat_minor": 5
}
